{
 "cells": [
  {
   "cell_type": "code",
   "execution_count": null,
   "id": "e99ef9c2-70e4-45da-a47d-1753153db3a8",
   "metadata": {},
   "outputs": [],
   "source": [
    "import nbformat as nbf\n",
    "\n",
    "# Create a new notebook\n",
    "nb = nbf.v4.new_notebook()\n",
    "\n",
    "# Add cells to the notebook\n",
    "nb.cells.append(nbf.v4.new_markdown_cell(\"# Full Jupyter Notebook Template\"))\n",
    "nb.cells.append(nbf.v4.new_code_cell(\"\"\"\n",
    "# Step 1: Import Libraries\n",
    "\n",
    "import pandas as pd\n",
    "import numpy as np\n",
    "import matplotlib.pyplot as plt\n",
    "import seaborn as sns\n",
    "from sklearn.datasets import load_iris\n",
    "\n",
    "# Make plots prettier\n",
    "sns.set(style=\"whitegrid\")\n",
    "\"\"\"))\n",
    "nb.cells.append(nbf.v4.new_code_cell(\"\"\"\n",
    "# Step 2: Load & Explore the Dataset\n",
    "\n",
    "# Load the Iris dataset\n",
    "iris = load_iris()\n",
    "\n",
    "# Convert to pandas DataFrame\n",
    "df = pd.DataFrame(iris.data, columns=iris.feature_names)\n",
    "\n",
    "# Add target column (species)\n",
    "df['species'] = pd.Categorical.from_codes(iris.target, iris.target_names)\n",
    "\n",
    "# Show the first 5 rows\n",
    "df.head()\n",
    "\"\"\"))\n",
    "nb.cells.append(nbf.v4.new_code_cell(\"\"\"\n",
    "# Step 3: Understand the Structure\n",
    "\n",
    "# Check data types\n",
    "print(\"Data Types:\")\n",
    "print(df.dtypes)\n",
    "\n",
    "# Check for missing values\n",
    "print(\"\\\\nMissing Values:\")\n",
    "print(df.isnull().sum())\n",
    "\n",
    "# Clean data (if needed)\n",
    "df = df.dropna"
   ]
  }
 ],
 "metadata": {
  "kernelspec": {
   "display_name": "",
   "name": ""
  },
  "language_info": {
   "name": ""
  }
 },
 "nbformat": 4,
 "nbformat_minor": 5
}
